{
 "cells": [
  {
   "cell_type": "code",
   "execution_count": 1,
   "metadata": {},
   "outputs": [],
   "source": [
    "import sys\n",
    "import os\n",
    "\n",
    "\n",
    "notebook_dir = os.path.dirname(os.path.realpath(\"__file__\"))  # Path to notebooks directory\n",
    "parent_dir = os.path.dirname(notebook_dir)  # Parent directory of notebooks\n",
    "\n",
    "sys.path.append(parent_dir)"
   ]
  },
  {
   "cell_type": "code",
   "execution_count": 2,
   "metadata": {},
   "outputs": [],
   "source": [
    "import numpy as np\n",
    "import matplotlib.pyplot as plt\n",
    "from matplotlib.lines import Line2D\n",
    "\n",
    "from rc.risk_control import rc_main\n",
    "from img_cls.utils import img_cls_main, max_exit\n",
    "\n",
    "from plotting_style import *"
   ]
  },
  {
   "cell_type": "code",
   "execution_count": 3,
   "metadata": {},
   "outputs": [],
   "source": [
    "PATH = './data'\n",
    "DATASET = \"imagenet\"\n",
    "MODELS = ['msdnet', 'dvit', 'l2wden',  'dynperc']\n",
    "\n",
    "LAMBDAS = np.arange(0., 1.001, 0.01)[::-1]  # Descending order\n",
    "DELTA = 0.1\n",
    "EPSILONS = np.arange(0.01, 0.51, 0.01)\n",
    "N_CAL = 100\n",
    "N_TRIALS = 5\n",
    "RCP_TYPES = ['ucb-wsr', 'crc']\n",
    "RISK_TYPES = ['prediction-gt-gap', 'confidence-brier', 'prediction-consistency', 'confidence-brier-top-pred']"
   ]
  },
  {
   "cell_type": "code",
   "execution_count": 4,
   "metadata": {},
   "outputs": [],
   "source": [
    "# import pickle\n",
    "# import torch\n",
    "\n",
    "# for model in MODELS:\n",
    "#     with open(f\"{PATH}/{model}/{DATASET}.p\", \"rb\") as f:\n",
    "#         data = pickle.load(f)\n",
    "\n",
    "#     # Check the length of data to determine the structure\n",
    "#     if len(data) == 2:\n",
    "#         logits, targets = data\n",
    "#     else:\n",
    "#         logits, targets, _ = data\n",
    "\n",
    "#     # Convert PyTorch tensors to NumPy arrays. make sure that the tensor is detached from cuda first\n",
    "#     logits_np = logits.cpu().numpy()\n",
    "#     targets_np = targets.cpu().numpy()\n",
    "\n",
    "#     # Save the NumPy arrays back to a pickle file\n",
    "#     with open(f\"{PATH}/{model}/{DATASET}_numpy.p\", \"wb\") as f:\n",
    "#         pickle.dump((logits_np, targets_np), f)"
   ]
  },
  {
   "cell_type": "code",
   "execution_count": 5,
   "metadata": {},
   "outputs": [
    {
     "name": "stdout",
     "output_type": "stream",
     "text": [
      "Model: msdnet, n_cal: 100, risk_type: prediction-gt-gap\n"
     ]
    },
    {
     "name": "stderr",
     "output_type": "stream",
     "text": [
      "/home/metod/Desktop/PhD/year2/LTT/RC-EENN/rc/bounds.py:25: RuntimeWarning: divide by zero encountered in log\n",
      "  return np.max(np.cumsum(np.log(1 - nu * (x - mu)))) + np.log(delta)\n"
     ]
    },
    {
     "name": "stdout",
     "output_type": "stream",
     "text": [
      "Model: msdnet, n_cal: 100, risk_type: confidence-brier\n",
      "Model: msdnet, n_cal: 100, risk_type: prediction-consistency\n",
      "Model: msdnet, n_cal: 100, risk_type: confidence-brier-top-pred\n",
      "Model: dvit, n_cal: 100, risk_type: prediction-gt-gap\n",
      "Model: dvit, n_cal: 100, risk_type: confidence-brier\n"
     ]
    }
   ],
   "source": [
    "PLOT_RES = {}\n",
    "for model in MODELS:\n",
    "    for row, risk_type in enumerate(RISK_TYPES):\n",
    "        print(f\"Model: {model}, n_cal: {N_CAL}, risk_type: {risk_type}\")\n",
    "        losses, exits = img_cls_main(model=model, dataset=DATASET, path=PATH, lambdas=LAMBDAS, risk_type=risk_type)\n",
    "        test_risk, eff_gains, _ = rc_main(losses, exits, eps_grid=EPSILONS, rcp_types=RCP_TYPES, \n",
    "                                          delta=DELTA, n_cal=N_CAL, n_trials=N_TRIALS, loss_bound=2 if 'brier' in risk_type else 1)\n",
    "        PLOT_RES[(model, risk_type)] = (test_risk, eff_gains)        "
   ]
  },
  {
   "cell_type": "code",
   "execution_count": null,
   "metadata": {},
   "outputs": [],
   "source": [
    "model_map = {'msdnet': 'MSDNet', 'dvit': 'DViT', 'l2wden': 'L2W-DEN', 'dynperc': 'Dyn-Perc', 'calib-msdnet/la-mie': 'Cal-MSDNet'}\n",
    "color_map = {'msdnet': 'tab:blue', 'dvit': 'tab:orange', 'l2wden': 'tab:green', 'dynperc': 'tab:red', 'calib-msdnet/la-mie': 'tab:purple'}\n",
    "risk_map = {'prediction-gt-gap': '$\\mathcal{R}^G (\\hat{y}) (0\\!-\\!1)$', 'confidence-brier': '$\\mathcal{R}^G (\\hat{p})$ (Brier)', \n",
    "            'prediction-consistency': '$\\mathcal{R}^C (\\hat{y}) (0\\!-\\!1)$', 'confidence-hellinger': '$\\mathcal{R}^C(\\hat{p})$ (Hellinger)', \n",
    "            'confidence-brier-top-pred': '$\\mathcal{R}^C (\\hat{p})$ (Brier)'}\n",
    "ls_map = {\"crc\": \"-\", \"ucb-wsr\": \"--\"}"
   ]
  },
  {
   "cell_type": "code",
   "execution_count": null,
   "metadata": {},
   "outputs": [],
   "source": [
    "EPS_UPPER = 0.4\n",
    "_epsilons = np.append(0., EPSILONS)\n",
    "fig, ax = plt.subplots(2, len(RISK_TYPES), figsize=(text_width, 0.4*text_width), sharex=True)\n",
    "\n",
    "for j, risk_type in enumerate(RISK_TYPES):\n",
    "    max_L = 0\n",
    "    for model in MODELS[DATASET]:\n",
    "        L = max_exit(model, DATASET, PATH)\n",
    "        for rcp_type in RCP_TYPES:\n",
    "            test_risk, eff_gains = PLOT_RES[(model, risk_type)]\n",
    "            test_risk, eff_gains = np.array(test_risk[rcp_type]), np.array(eff_gains[rcp_type])\n",
    "\n",
    "            test_risk_mu = np.insert(test_risk.mean(axis=0), 0, 0)\n",
    "            eff_gains_mu = np.insert(eff_gains.mean(axis=0), 0, L)\n",
    "\n",
    "            ax[0, j].plot(_epsilons, test_risk_mu, label=model_map[model], color=color_map[model], linestyle=ls_map[rcp_type])\n",
    "            ax[1, j].plot(_epsilons, eff_gains_mu, label=model_map[model], color=color_map[model], linestyle=ls_map[rcp_type])\n",
    "\n",
    "            max_L = max(max_L, L)\n",
    "            ax[1, j].scatter(0, L, marker='x')\n",
    "\n",
    "    if j > 0:\n",
    "        ax[0, j].set_yticklabels([])\n",
    "        ax[1, j].set_yticklabels([])\n",
    "\n",
    "    ax[0, j].set_xlim(-0.01, EPS_UPPER)\n",
    "    ax[0, j].set_ylim(0, EPS_UPPER)\n",
    "    # add a diagonal line\n",
    "    ax[0, j].plot([0, 1], [0, 1], 'k--')\n",
    "    ax[1, j].set_yticks([i for i in range(1, int(max_L) + 1)])\n",
    "\n",
    "    ax[0, j].set_title(risk_map[risk_type])\n",
    "\n",
    "ax[0, 0].set_ylabel(\"Test Risk $\\hat{\\mathcal{R}}$\")\n",
    "\n",
    "# ax[1, 1].set_xlabel(r\"Risk Level $\\epsilon$\")\n",
    "ax[1, 0].set_ylabel(\"Exit Layer ($\\downarrow$)\")\n",
    "ax[0, 0].set_xticks([i for i in np.arange(0, EPS_UPPER + 0.1, 0.1)])\n",
    "\n",
    "ax[1, 0].legend(loc='upper right')\n",
    "\n",
    "\n",
    "# add legend\n",
    "lines2 = [\n",
    "    Line2D([0], [0], color='black', lw=1, linestyle='-', alpha=0.5),\n",
    "    Line2D([0], [0], color='black', lw=1, linestyle='--', alpha=0.5),\n",
    "]\n",
    "labels2 = [\"CRC\", \"UCB\"]\n",
    "\n",
    "lines1 = [\n",
    "    Line2D([0], [0], color='tab:blue', lw=1, linestyle='-',),\n",
    "    Line2D([0], [0], color='tab:orange', lw=1, linestyle='-',),\n",
    "    Line2D([0], [0], color='tab:green', lw=1, linestyle='-',),\n",
    "    Line2D([0], [0], color='tab:red', lw=1, linestyle='-', ),\n",
    "\n",
    "]\n",
    "labels1 = [\n",
    "    \"MSDNet\",\n",
    "    \"DViT\",\n",
    "    \"L2W-DEN\",\n",
    "    \"Dyn-Perc\"\n",
    "]\n",
    "\n",
    "legend1 = ax[1, 0].legend(lines1, labels1, loc='upper right',)\n",
    "legend2 = ax[1, 1].legend(lines2, labels2, loc='upper right',)\n",
    "\n",
    "fig.text(0.52, 0.0, r\"Risk Level $\\epsilon$\", ha='center')\n",
    "\n",
    "plt.tight_layout()\n",
    "plt.show()"
   ]
  }
 ],
 "metadata": {
  "kernelspec": {
   "display_name": "laplace",
   "language": "python",
   "name": "python3"
  },
  "language_info": {
   "codemirror_mode": {
    "name": "ipython",
    "version": 3
   },
   "file_extension": ".py",
   "mimetype": "text/x-python",
   "name": "python",
   "nbconvert_exporter": "python",
   "pygments_lexer": "ipython3",
   "version": "3.8.15"
  }
 },
 "nbformat": 4,
 "nbformat_minor": 2
}
