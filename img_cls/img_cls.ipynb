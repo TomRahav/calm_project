{
 "cells": [
  {
   "cell_type": "code",
   "execution_count": 1,
   "metadata": {},
   "outputs": [],
   "source": [
    "import sys\n",
    "import os\n",
    "\n",
    "\n",
    "notebook_dir = os.path.dirname(os.path.realpath(\"__file__\"))  # Path to notebooks directory\n",
    "parent_dir = os.path.dirname(notebook_dir)  # Parent directory of notebooks\n",
    "\n",
    "sys.path.append(parent_dir)"
   ]
  },
  {
   "cell_type": "code",
   "execution_count": 2,
   "metadata": {},
   "outputs": [],
   "source": [
    "import numpy as np\n",
    "import matplotlib.pyplot as plt\n",
    "\n",
    "from rc.risk_control import rc_main"
   ]
  },
  {
   "cell_type": "code",
   "execution_count": 5,
   "metadata": {},
   "outputs": [],
   "source": [
    "PATH = '/data/'\n",
    "DATASET = \"imagenet\"\n",
    "MODELS = ['msdnet', 'dvit', 'l2wden',  'dynperc']\n",
    "\n",
    "LAMBDAS = np.arange(0., 1.001, 0.01)[::-1]  # Descending order\n",
    "DELTA = 0.1\n",
    "EPSILONS = np.arange(0.01, 0.51, 0.01)\n",
    "N_CAL = 100\n",
    "N_TRIALS = 50\n",
    "RCP_TYPES = ['ucb-wsr', 'crc']\n",
    "RISK_TYPES = ['prediction-gt-gap', 'confidence-brier', 'prediction-consistency', 'confidence-brier-top-pred']"
   ]
  },
  {
   "cell_type": "code",
   "execution_count": null,
   "metadata": {},
   "outputs": [],
   "source": [
    "PLOT_RES = {}\n",
    "for model in MODELS:\n",
    "    # Iterate over each risk_type and populate the grid\n",
    "    for row, risk_type in enumerate(RISK_TYPES):\n",
    "        print(f\"Model: {model}, n_cal: {N_CAL}, risk_type: {risk_type}\")\n",
    "        losses, exits = img_class_inference(model=model, dataset=DATASET, \n",
    "                                            path=PATH, lambdas=LAMBDAS, \n",
    "                                            risk_type=risk_type, non_negative=False)\n",
    "        if 'brier' in risk_type:\n",
    "            B = 2.\n",
    "        else:\n",
    "            B = 1.\n",
    "        test_risk, eff_gains, _ = rc_main(losses, exits, eps_grid=EPSILONS, \n",
    "                                        rcp_types=RCP_TYPES, \n",
    "                                        delta=DELTA, n_cal=N_CAL, n_trials=N_TRIALS, loss_bound=B)\n",
    "        PLOT_RES[(model, risk_type)] = (test_risk, eff_gains)        "
   ]
  }
 ],
 "metadata": {
  "kernelspec": {
   "display_name": "laplace",
   "language": "python",
   "name": "python3"
  },
  "language_info": {
   "codemirror_mode": {
    "name": "ipython",
    "version": 3
   },
   "file_extension": ".py",
   "mimetype": "text/x-python",
   "name": "python",
   "nbconvert_exporter": "python",
   "pygments_lexer": "ipython3",
   "version": "3.8.15"
  }
 },
 "nbformat": 4,
 "nbformat_minor": 2
}
